{
 "cells": [
  {
   "cell_type": "code",
   "execution_count": 1,
   "id": "fr6xEtuXxWLf",
   "metadata": {
    "executionInfo": {
     "elapsed": 4,
     "status": "ok",
     "timestamp": 1664952040900,
     "user": {
      "displayName": "Russell Li",
      "userId": "03450665481740649198"
     },
     "user_tz": -480
    },
    "id": "fr6xEtuXxWLf"
   },
   "outputs": [],
   "source": [
    "# pip install yfinance"
   ]
  },
  {
   "cell_type": "code",
   "execution_count": 2,
   "id": "35cef3b7",
   "metadata": {
    "executionInfo": {
     "elapsed": 934,
     "status": "ok",
     "timestamp": 1664949833428,
     "user": {
      "displayName": "Russell Li",
      "userId": "03450665481740649198"
     },
     "user_tz": -480
    },
    "id": "35cef3b7"
   },
   "outputs": [],
   "source": [
    "# define function to convert symbols to a list\n",
    "# list to be fed to \"get history\" function to crawl historical data\n",
    "\n",
    "import pandas as pd\n",
    "\n",
    "def symbols_to_list(filepath):\n",
    "    df = pd.read_csv(filepath)\n",
    "    return df['Symbol'].tolist()"
   ]
  },
  {
   "cell_type": "code",
   "execution_count": 3,
   "id": "QZp5ia9ov-2k",
   "metadata": {
    "executionInfo": {
     "elapsed": 414,
     "status": "ok",
     "timestamp": 1664950181784,
     "user": {
      "displayName": "Russell Li",
      "userId": "03450665481740649198"
     },
     "user_tz": -480
    },
    "id": "QZp5ia9ov-2k"
   },
   "outputs": [
    {
     "name": "stdout",
     "output_type": "stream",
     "text": [
      "['502.SI', 'NLC.SI', 'AZG.SI', '1Y1.SI', 'BQC.SI', 'BTJ.SI', '533.SI']\n"
     ]
    }
   ],
   "source": [
    "# get lists from symbols\n",
    "symbol_sgx = symbols_to_list('symbol_sgx.csv')\n",
    "\n",
    "# check to make sure lists are ok\n",
    "print(symbol_sgx[0:7])"
   ]
  },
  {
   "cell_type": "code",
   "execution_count": 4,
   "id": "a3e3d393",
   "metadata": {
    "executionInfo": {
     "elapsed": 400,
     "status": "ok",
     "timestamp": 1664950822373,
     "user": {
      "displayName": "Russell Li",
      "userId": "03450665481740649198"
     },
     "user_tz": -480
    },
    "id": "a3e3d393"
   },
   "outputs": [],
   "source": [
    "# define function to retreive data 2022M1 to 2022M7\n",
    "# reference: https://stackoverflow.com/questions/63107594/how-to-deal-with-multi-level-column-names-downloaded-with-yfinance/63107801#63107801\n",
    "\n",
    "import time\n",
    "import yfinance as yf\n",
    "\n",
    "# # define function to get data from 2022M1 to 2022M7\n",
    "\n",
    "def get_history(tickerStrings):\n",
    "  # tickerStrings is a list of symbols of stocks that the function is to get data from\n",
    "    df = yf.download(tickerStrings, group_by='Ticker', \n",
    "                     start=\"2022-01-01\", end=\"2022-11-01\")\n",
    "    df = df.stack(level=0).rename_axis(['Date', 'Ticker']).reset_index(level=1)\n",
    "    return df"
   ]
  },
  {
   "cell_type": "code",
   "execution_count": 5,
   "id": "2o-8uuNMxPnj",
   "metadata": {
    "colab": {
     "base_uri": "https://localhost:8080/"
    },
    "executionInfo": {
     "elapsed": 4688,
     "status": "ok",
     "timestamp": 1664951251905,
     "user": {
      "displayName": "Russell Li",
      "userId": "03450665481740649198"
     },
     "user_tz": -480
    },
    "id": "2o-8uuNMxPnj",
    "outputId": "8b46b1d4-3b8d-4cf6-8a11-2177db785f90",
    "scrolled": false
   },
   "outputs": [
    {
     "name": "stdout",
     "output_type": "stream",
     "text": [
      "[*********************100%***********************]  728 of 728 completed\n",
      "\n",
      "26 Failed downloads:\n",
      "- QPQR.SI: No data found for this date range, symbol may be delisted\n",
      "- CGP.SI: No data found for this date range, symbol may be delisted\n",
      "- OCFR.SI: No data found for this date range, symbol may be delisted\n",
      "- CYX.SI: No data found for this date range, symbol may be delisted\n",
      "- BAC.SI: No data found for this date range, symbol may be delisted\n",
      "- O6Z.SI: No data found for this date range, symbol may be delisted\n",
      "- BGO.SI: No data found for this date range, symbol may be delisted\n",
      "- CGN.SI: No data found for this date range, symbol may be delisted\n",
      "- A13.SI: No data found for this date range, symbol may be delisted\n",
      "- SO7.SI: No data found for this date range, symbol may be delisted\n",
      "- RF1U.SI: No data found for this date range, symbol may be delisted\n",
      "- M12.SI: No data found for this date range, symbol may be delisted\n",
      "- QWGR.SI: No data found for this date range, symbol may be delisted\n",
      "- AZG.SI: No data found for this date range, symbol may be delisted\n",
      "- PJX.SI: No data found for this date range, symbol may be delisted\n",
      "- 41S.SI: No data found for this date range, symbol may be delisted\n",
      "- CWCU.SI: No data found for this date range, symbol may be delisted\n",
      "- XWA.SI: No data found for this date range, symbol may be delisted\n",
      "- H19.SI: No data found for this date range, symbol may be delisted\n",
      "- SK3.SI: No data found for this date range, symbol may be delisted\n",
      "- BDF.SI: No data found, symbol may be delisted\n",
      "- I4R.SI: No data found for this date range, symbol may be delisted\n",
      "- N33.SI: No data found for this date range, symbol may be delisted\n",
      "- S2D.SI: No data found for this date range, symbol may be delisted\n",
      "- IXOR.SI: No data found for this date range, symbol may be delisted\n",
      "- 5MQ.SI: No data found for this date range, symbol may be delisted\n",
      "duration = 0.17 min\n"
     ]
    }
   ],
   "source": [
    "# # get data from 2022M1 to 2022M7\n",
    "\n",
    "start_time = time.time()\n",
    "df_sgx = get_history(symbol_sgx)\n",
    "print('duration =',f'{((time.time()-start_time)/60):.2f}','min')"
   ]
  },
  {
   "cell_type": "code",
   "execution_count": 6,
   "id": "0TC164P2yimi",
   "metadata": {
    "colab": {
     "base_uri": "https://localhost:8080/",
     "height": 238
    },
    "executionInfo": {
     "elapsed": 7,
     "status": "ok",
     "timestamp": 1664951394796,
     "user": {
      "displayName": "Russell Li",
      "userId": "03450665481740649198"
     },
     "user_tz": -480
    },
    "id": "0TC164P2yimi",
    "outputId": "1ff98615-5664-4948-9769-18d8c1b0ddc4"
   },
   "outputs": [
    {
     "data": {
      "text/html": [
       "<div>\n",
       "<style scoped>\n",
       "    .dataframe tbody tr th:only-of-type {\n",
       "        vertical-align: middle;\n",
       "    }\n",
       "\n",
       "    .dataframe tbody tr th {\n",
       "        vertical-align: top;\n",
       "    }\n",
       "\n",
       "    .dataframe thead th {\n",
       "        text-align: right;\n",
       "    }\n",
       "</style>\n",
       "<table border=\"1\" class=\"dataframe\">\n",
       "  <thead>\n",
       "    <tr style=\"text-align: right;\">\n",
       "      <th></th>\n",
       "      <th>Ticker</th>\n",
       "      <th>Adj Close</th>\n",
       "      <th>Close</th>\n",
       "      <th>High</th>\n",
       "      <th>Low</th>\n",
       "      <th>Open</th>\n",
       "      <th>Volume</th>\n",
       "    </tr>\n",
       "    <tr>\n",
       "      <th>Date</th>\n",
       "      <th></th>\n",
       "      <th></th>\n",
       "      <th></th>\n",
       "      <th></th>\n",
       "      <th></th>\n",
       "      <th></th>\n",
       "      <th></th>\n",
       "    </tr>\n",
       "  </thead>\n",
       "  <tbody>\n",
       "    <tr>\n",
       "      <th>2022-01-03</th>\n",
       "      <td>1A0.SI</td>\n",
       "      <td>0.095000</td>\n",
       "      <td>0.095</td>\n",
       "      <td>0.095</td>\n",
       "      <td>0.095</td>\n",
       "      <td>0.095</td>\n",
       "      <td>400.0</td>\n",
       "    </tr>\n",
       "    <tr>\n",
       "      <th>2022-01-03</th>\n",
       "      <td>1A1.SI</td>\n",
       "      <td>0.146006</td>\n",
       "      <td>0.153</td>\n",
       "      <td>0.153</td>\n",
       "      <td>0.153</td>\n",
       "      <td>0.153</td>\n",
       "      <td>0.0</td>\n",
       "    </tr>\n",
       "    <tr>\n",
       "      <th>2022-01-03</th>\n",
       "      <td>1A4.SI</td>\n",
       "      <td>0.010000</td>\n",
       "      <td>0.010</td>\n",
       "      <td>0.010</td>\n",
       "      <td>0.010</td>\n",
       "      <td>0.010</td>\n",
       "      <td>0.0</td>\n",
       "    </tr>\n",
       "    <tr>\n",
       "      <th>2022-01-03</th>\n",
       "      <td>1AZ.SI</td>\n",
       "      <td>0.263591</td>\n",
       "      <td>0.280</td>\n",
       "      <td>0.280</td>\n",
       "      <td>0.200</td>\n",
       "      <td>0.200</td>\n",
       "      <td>86600.0</td>\n",
       "    </tr>\n",
       "    <tr>\n",
       "      <th>2022-01-03</th>\n",
       "      <td>1B0.SI</td>\n",
       "      <td>0.055000</td>\n",
       "      <td>0.055</td>\n",
       "      <td>0.056</td>\n",
       "      <td>0.053</td>\n",
       "      <td>0.055</td>\n",
       "      <td>5753100.0</td>\n",
       "    </tr>\n",
       "    <tr>\n",
       "      <th>...</th>\n",
       "      <td>...</td>\n",
       "      <td>...</td>\n",
       "      <td>...</td>\n",
       "      <td>...</td>\n",
       "      <td>...</td>\n",
       "      <td>...</td>\n",
       "      <td>...</td>\n",
       "    </tr>\n",
       "    <tr>\n",
       "      <th>2022-10-31</th>\n",
       "      <td>Z77.SI</td>\n",
       "      <td>2.500000</td>\n",
       "      <td>2.500</td>\n",
       "      <td>2.520</td>\n",
       "      <td>2.480</td>\n",
       "      <td>2.480</td>\n",
       "      <td>62210.0</td>\n",
       "    </tr>\n",
       "    <tr>\n",
       "      <th>2022-10-31</th>\n",
       "      <td>ZHD.SI</td>\n",
       "      <td>0.741000</td>\n",
       "      <td>0.741</td>\n",
       "      <td>0.741</td>\n",
       "      <td>0.741</td>\n",
       "      <td>0.741</td>\n",
       "      <td>0.0</td>\n",
       "    </tr>\n",
       "    <tr>\n",
       "      <th>2022-10-31</th>\n",
       "      <td>ZHS.SI</td>\n",
       "      <td>0.988000</td>\n",
       "      <td>0.988</td>\n",
       "      <td>0.988</td>\n",
       "      <td>0.988</td>\n",
       "      <td>0.988</td>\n",
       "      <td>0.0</td>\n",
       "    </tr>\n",
       "    <tr>\n",
       "      <th>2022-10-31</th>\n",
       "      <td>ZHY.SI</td>\n",
       "      <td>5.420000</td>\n",
       "      <td>5.420</td>\n",
       "      <td>5.420</td>\n",
       "      <td>5.420</td>\n",
       "      <td>5.420</td>\n",
       "      <td>0.0</td>\n",
       "    </tr>\n",
       "    <tr>\n",
       "      <th>2022-10-31</th>\n",
       "      <td>ZXY.SI</td>\n",
       "      <td>0.160000</td>\n",
       "      <td>0.160</td>\n",
       "      <td>0.160</td>\n",
       "      <td>0.160</td>\n",
       "      <td>0.160</td>\n",
       "      <td>0.0</td>\n",
       "    </tr>\n",
       "  </tbody>\n",
       "</table>\n",
       "<p>143823 rows × 7 columns</p>\n",
       "</div>"
      ],
      "text/plain": [
       "            Ticker  Adj Close  Close   High    Low   Open     Volume\n",
       "Date                                                                \n",
       "2022-01-03  1A0.SI   0.095000  0.095  0.095  0.095  0.095      400.0\n",
       "2022-01-03  1A1.SI   0.146006  0.153  0.153  0.153  0.153        0.0\n",
       "2022-01-03  1A4.SI   0.010000  0.010  0.010  0.010  0.010        0.0\n",
       "2022-01-03  1AZ.SI   0.263591  0.280  0.280  0.200  0.200    86600.0\n",
       "2022-01-03  1B0.SI   0.055000  0.055  0.056  0.053  0.055  5753100.0\n",
       "...            ...        ...    ...    ...    ...    ...        ...\n",
       "2022-10-31  Z77.SI   2.500000  2.500  2.520  2.480  2.480    62210.0\n",
       "2022-10-31  ZHD.SI   0.741000  0.741  0.741  0.741  0.741        0.0\n",
       "2022-10-31  ZHS.SI   0.988000  0.988  0.988  0.988  0.988        0.0\n",
       "2022-10-31  ZHY.SI   5.420000  5.420  5.420  5.420  5.420        0.0\n",
       "2022-10-31  ZXY.SI   0.160000  0.160  0.160  0.160  0.160        0.0\n",
       "\n",
       "[143823 rows x 7 columns]"
      ]
     },
     "execution_count": 6,
     "metadata": {},
     "output_type": "execute_result"
    }
   ],
   "source": [
    "# # preview data crawled\n",
    "\n",
    "# # use .nunique() to check whether 1st column has all the stock symbols\n",
    "# df_sgx['Ticker'].nunique()\n",
    "\n",
    "# preview df_sgx\n",
    "df_sgx "
   ]
  },
  {
   "cell_type": "code",
   "execution_count": 7,
   "id": "YN_udvzEyIAN",
   "metadata": {
    "executionInfo": {
     "elapsed": 625,
     "status": "ok",
     "timestamp": 1664951317062,
     "user": {
      "displayName": "Russell Li",
      "userId": "03450665481740649198"
     },
     "user_tz": -480
    },
    "id": "YN_udvzEyIAN"
   },
   "outputs": [],
   "source": [
    "# # save historical data as csv\n",
    "# df_sgx.to_csv('./data_regression_sgx.csv')"
   ]
  }
 ],
 "metadata": {
  "colab": {
   "collapsed_sections": [],
   "provenance": []
  },
  "kernelspec": {
   "display_name": "Python 3 (ipykernel)",
   "language": "python",
   "name": "python3"
  },
  "language_info": {
   "codemirror_mode": {
    "name": "ipython",
    "version": 3
   },
   "file_extension": ".py",
   "mimetype": "text/x-python",
   "name": "python",
   "nbconvert_exporter": "python",
   "pygments_lexer": "ipython3",
   "version": "3.9.13"
  }
 },
 "nbformat": 4,
 "nbformat_minor": 5
}
