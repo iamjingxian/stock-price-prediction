{
 "cells": [
  {
   "cell_type": "markdown",
   "id": "f0928976",
   "metadata": {},
   "source": [
    "This notebook contains code to **retrieve** 'beta' and 'Marketcap' values from yahoo finance, and requires input file ```symbol_sgx.csv``` containing the stock symbols.\n",
    "\n",
    "Note that the runtime for retrieving 'beta' and 'Marketcap' data is very long (>20min). Other methods explored did not result in shorter runtimes\n",
    "* via ```yahoofinancials``` package (>90min)\n",
    "* via ```info = yf.Ticker(stock).info```, and then ```beta = info['beta']``` (method buggy and crashes if beta or marketcap values not available for ticker)\n",
    "* via ```info = yf.Ticker(stock).info```, and then ```beta = info.get('beta')``` (current method, >20min)"
   ]
  },
  {
   "cell_type": "code",
   "execution_count": 1,
   "id": "005b54b5",
   "metadata": {
    "scrolled": false
   },
   "outputs": [],
   "source": [
    "import pandas as pd\n",
    "\n",
    "def symbols_to_list(filepath):\n",
    "    df = pd.read_csv(filepath)\n",
    "    return df['Symbol'].tolist()\n",
    "\n",
    "symbol_sgx = symbols_to_list('symbol_sgx.csv')"
   ]
  },
  {
   "cell_type": "code",
   "execution_count": 2,
   "id": "4ca9a308",
   "metadata": {},
   "outputs": [
    {
     "name": "stdout",
     "output_type": "stream",
     "text": [
      "duration = 22.58 min\n"
     ]
    },
    {
     "data": {
      "text/html": [
       "<div>\n",
       "<style scoped>\n",
       "    .dataframe tbody tr th:only-of-type {\n",
       "        vertical-align: middle;\n",
       "    }\n",
       "\n",
       "    .dataframe tbody tr th {\n",
       "        vertical-align: top;\n",
       "    }\n",
       "\n",
       "    .dataframe thead th {\n",
       "        text-align: right;\n",
       "    }\n",
       "</style>\n",
       "<table border=\"1\" class=\"dataframe\">\n",
       "  <thead>\n",
       "    <tr style=\"text-align: right;\">\n",
       "      <th></th>\n",
       "      <th>Stock</th>\n",
       "      <th>Beta</th>\n",
       "      <th>Marketcap</th>\n",
       "    </tr>\n",
       "  </thead>\n",
       "  <tbody>\n",
       "    <tr>\n",
       "      <th>0</th>\n",
       "      <td>502.SI</td>\n",
       "      <td>3.334184</td>\n",
       "      <td>6134100</td>\n",
       "    </tr>\n",
       "    <tr>\n",
       "      <th>1</th>\n",
       "      <td>NLC.SI</td>\n",
       "      <td>NaN</td>\n",
       "      <td>34656628</td>\n",
       "    </tr>\n",
       "    <tr>\n",
       "      <th>2</th>\n",
       "      <td>1Y1.SI</td>\n",
       "      <td>NaN</td>\n",
       "      <td>37729640</td>\n",
       "    </tr>\n",
       "    <tr>\n",
       "      <th>3</th>\n",
       "      <td>BQC.SI</td>\n",
       "      <td>-0.143465</td>\n",
       "      <td>12670270</td>\n",
       "    </tr>\n",
       "    <tr>\n",
       "      <th>4</th>\n",
       "      <td>BTJ.SI</td>\n",
       "      <td>1.117496</td>\n",
       "      <td>48901932</td>\n",
       "    </tr>\n",
       "    <tr>\n",
       "      <th>...</th>\n",
       "      <td>...</td>\n",
       "      <td>...</td>\n",
       "      <td>...</td>\n",
       "    </tr>\n",
       "    <tr>\n",
       "      <th>722</th>\n",
       "      <td>TID.SI</td>\n",
       "      <td>NaN</td>\n",
       "      <td>None</td>\n",
       "    </tr>\n",
       "    <tr>\n",
       "      <th>723</th>\n",
       "      <td>LG9.SI</td>\n",
       "      <td>NaN</td>\n",
       "      <td>None</td>\n",
       "    </tr>\n",
       "    <tr>\n",
       "      <th>724</th>\n",
       "      <td>KJ7.SI</td>\n",
       "      <td>NaN</td>\n",
       "      <td>None</td>\n",
       "    </tr>\n",
       "    <tr>\n",
       "      <th>725</th>\n",
       "      <td>KV4.SI</td>\n",
       "      <td>NaN</td>\n",
       "      <td>None</td>\n",
       "    </tr>\n",
       "    <tr>\n",
       "      <th>726</th>\n",
       "      <td>HD9.SI</td>\n",
       "      <td>NaN</td>\n",
       "      <td>None</td>\n",
       "    </tr>\n",
       "  </tbody>\n",
       "</table>\n",
       "<p>727 rows × 3 columns</p>\n",
       "</div>"
      ],
      "text/plain": [
       "      Stock      Beta Marketcap\n",
       "0    502.SI  3.334184   6134100\n",
       "1    NLC.SI       NaN  34656628\n",
       "2    1Y1.SI       NaN  37729640\n",
       "3    BQC.SI -0.143465  12670270\n",
       "4    BTJ.SI  1.117496  48901932\n",
       "..      ...       ...       ...\n",
       "722  TID.SI       NaN      None\n",
       "723  LG9.SI       NaN      None\n",
       "724  KJ7.SI       NaN      None\n",
       "725  KV4.SI       NaN      None\n",
       "726  HD9.SI       NaN      None\n",
       "\n",
       "[727 rows x 3 columns]"
      ]
     },
     "execution_count": 2,
     "metadata": {},
     "output_type": "execute_result"
    }
   ],
   "source": [
    "import yfinance as yf\n",
    "import time\n",
    "\n",
    "\n",
    "df=pd.DataFrame(columns=['Stock','Beta','Marketcap'])\n",
    "\n",
    "start_time = time.time()\n",
    "\n",
    "for stock in symbol_sgx: \n",
    "    info = yf.Ticker(stock).info\n",
    "    beta = info.get('beta')\n",
    "    marketcap = info.get('marketCap')\n",
    "    df_temp = pd.DataFrame({'Stock':stock,'Beta':[beta],'Marketcap':[marketcap]})\n",
    "    df = pd.concat([df, df_temp], ignore_index=True)\n",
    "    \n",
    "end_time = time.time()    \n",
    "print(f'duration = {((end_time-start_time)/60):.2f} min')\n",
    "\n",
    "df"
   ]
  },
  {
   "cell_type": "markdown",
   "id": "fb7ffcc5",
   "metadata": {},
   "source": [
    "the following line of code has been commented so the user does not accidentally overwrite the input file ```data_beta_marketcap_raw.csv``` already included in the submission"
   ]
  },
  {
   "cell_type": "code",
   "execution_count": 3,
   "id": "5e467ab0",
   "metadata": {},
   "outputs": [],
   "source": [
    "# # save raw df to csv before processing \n",
    "# df.to_csv('data_beta_marketcap_raw.csv',index=False)"
   ]
  }
 ],
 "metadata": {
  "kernelspec": {
   "display_name": "Python 3.9 (tensorflow)",
   "language": "python",
   "name": "tensorflow"
  },
  "language_info": {
   "codemirror_mode": {
    "name": "ipython",
    "version": 3
   },
   "file_extension": ".py",
   "mimetype": "text/x-python",
   "name": "python",
   "nbconvert_exporter": "python",
   "pygments_lexer": "ipython3",
   "version": "3.9.13"
  }
 },
 "nbformat": 4,
 "nbformat_minor": 5
}
